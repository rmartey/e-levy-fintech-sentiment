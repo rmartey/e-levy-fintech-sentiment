{
 "cells": [
  {
   "cell_type": "code",
   "execution_count": 2,
   "metadata": {},
   "outputs": [],
   "source": [
    "import json\n",
    "\n",
    "data = dict();\n",
    "\n",
    "with open(\"digitalInclusionData.json\",\"r\",encoding =\"utf-8\") as f:\n",
    "    d = f.read()\n",
    "    data = json.loads(d)\n",
    "    \n",
    "tweets = list()\n",
    "for info in data[\"data\"]:\n",
    "    d = json.loads(info)\n",
    "    tweets.append(d[\"text\"])\n",
    "#print(tweets)"
   ]
  },
  {
   "cell_type": "code",
   "execution_count": 3,
   "metadata": {},
   "outputs": [],
   "source": [
    "import pandas as pd\n",
    "import numpy as np\n",
    "import matplotlib.pyplot as plt\n",
    "import re\n",
    "from nltk import word_tokenize, sent_tokenize\n",
    "from nltk.corpus import stopwords\n",
    "from collections import Counter\n"
   ]
  },
  {
   "cell_type": "code",
   "execution_count": 4,
   "metadata": {},
   "outputs": [
    {
     "data": {
      "text/html": [
       "<div>\n",
       "<style scoped>\n",
       "    .dataframe tbody tr th:only-of-type {\n",
       "        vertical-align: middle;\n",
       "    }\n",
       "\n",
       "    .dataframe tbody tr th {\n",
       "        vertical-align: top;\n",
       "    }\n",
       "\n",
       "    .dataframe thead th {\n",
       "        text-align: right;\n",
       "    }\n",
       "</style>\n",
       "<table border=\"1\" class=\"dataframe\">\n",
       "  <thead>\n",
       "    <tr style=\"text-align: right;\">\n",
       "      <th></th>\n",
       "      <th>Tweets</th>\n",
       "    </tr>\n",
       "  </thead>\n",
       "  <tbody>\n",
       "    <tr>\n",
       "      <th>0</th>\n",
       "      <td>Min of Foreign Affairs of Ghana highlights the...</td>\n",
       "    </tr>\n",
       "    <tr>\n",
       "      <th>1</th>\n",
       "      <td>Digital Financial Inclusion and Security: The ...</td>\n",
       "    </tr>\n",
       "    <tr>\n",
       "      <th>2</th>\n",
       "      <td>Digital Financial Inclusion and Security: The ...</td>\n",
       "    </tr>\n",
       "    <tr>\n",
       "      <th>3</th>\n",
       "      <td>Digital Financial Inclusion and Security: The ...</td>\n",
       "    </tr>\n",
       "    <tr>\n",
       "      <th>4</th>\n",
       "      <td>New @CarnegieEndow: Digital Financial Inclusio...</td>\n",
       "    </tr>\n",
       "  </tbody>\n",
       "</table>\n",
       "</div>"
      ],
      "text/plain": [
       "                                              Tweets\n",
       "0  Min of Foreign Affairs of Ghana highlights the...\n",
       "1  Digital Financial Inclusion and Security: The ...\n",
       "2  Digital Financial Inclusion and Security: The ...\n",
       "3  Digital Financial Inclusion and Security: The ...\n",
       "4  New @CarnegieEndow: Digital Financial Inclusio..."
      ]
     },
     "execution_count": 4,
     "metadata": {},
     "output_type": "execute_result"
    }
   ],
   "source": [
    "tweets_df = pd.DataFrame(tweets, index=None,columns=[\"Tweets\"])\n",
    "tweets_df.head()"
   ]
  },
  {
   "cell_type": "code",
   "execution_count": 5,
   "metadata": {},
   "outputs": [
    {
     "data": {
      "text/html": [
       "<div>\n",
       "<style scoped>\n",
       "    .dataframe tbody tr th:only-of-type {\n",
       "        vertical-align: middle;\n",
       "    }\n",
       "\n",
       "    .dataframe tbody tr th {\n",
       "        vertical-align: top;\n",
       "    }\n",
       "\n",
       "    .dataframe thead th {\n",
       "        text-align: right;\n",
       "    }\n",
       "</style>\n",
       "<table border=\"1\" class=\"dataframe\">\n",
       "  <thead>\n",
       "    <tr style=\"text-align: right;\">\n",
       "      <th></th>\n",
       "      <th>Tweets</th>\n",
       "    </tr>\n",
       "  </thead>\n",
       "  <tbody>\n",
       "    <tr>\n",
       "      <th>0</th>\n",
       "      <td>Min of Foreign Affairs of Ghana highlights the...</td>\n",
       "    </tr>\n",
       "    <tr>\n",
       "      <th>1</th>\n",
       "      <td>Digital Financial Inclusion and Security: The ...</td>\n",
       "    </tr>\n",
       "    <tr>\n",
       "      <th>2</th>\n",
       "      <td>Digital Financial Inclusion and Security: The ...</td>\n",
       "    </tr>\n",
       "    <tr>\n",
       "      <th>3</th>\n",
       "      <td>Digital Financial Inclusion and Security: The ...</td>\n",
       "    </tr>\n",
       "    <tr>\n",
       "      <th>4</th>\n",
       "      <td>New CarnegieEndow: Digital Financial Inclusion...</td>\n",
       "    </tr>\n",
       "  </tbody>\n",
       "</table>\n",
       "</div>"
      ],
      "text/plain": [
       "                                              Tweets\n",
       "0  Min of Foreign Affairs of Ghana highlights the...\n",
       "1  Digital Financial Inclusion and Security: The ...\n",
       "2  Digital Financial Inclusion and Security: The ...\n",
       "3  Digital Financial Inclusion and Security: The ...\n",
       "4  New CarnegieEndow: Digital Financial Inclusion..."
      ]
     },
     "execution_count": 5,
     "metadata": {},
     "output_type": "execute_result"
    }
   ],
   "source": [
    "#removing #, @ and links \n",
    "# removing hashtags\n",
    "def remove_hashtags(text):\n",
    "    hashtag = re.compile(\"#\")\n",
    "    return hashtag.sub(\"\", text)\n",
    "\n",
    "#removing @ symbols\n",
    "def remove_at(text):\n",
    "    at = re.compile(\"@\")\n",
    "    return at.sub(\"\", text)\n",
    "\n",
    "# removing links\n",
    "def remove_URL(text):\n",
    "    url = re.compile(r'https?://\\S+|www\\.\\S+')\n",
    "    return url.sub(r'', text)\n",
    "def get_words(text):\n",
    "    return (text)\n",
    "\n",
    "tweets_df[\"Tweets\"] = tweets_df[\"Tweets\"].apply(remove_at)\n",
    "tweets_df[\"Tweets\"] = tweets_df[\"Tweets\"].apply(remove_hashtags)\n",
    "tweets_df[\"Tweets\"] = tweets_df[\"Tweets\"].apply(remove_URL)\n",
    "\n",
    "tweets_df.head()"
   ]
  },
  {
   "cell_type": "code",
   "execution_count": 6,
   "metadata": {},
   "outputs": [
    {
     "data": {
      "text/html": [
       "<div>\n",
       "<style scoped>\n",
       "    .dataframe tbody tr th:only-of-type {\n",
       "        vertical-align: middle;\n",
       "    }\n",
       "\n",
       "    .dataframe tbody tr th {\n",
       "        vertical-align: top;\n",
       "    }\n",
       "\n",
       "    .dataframe thead th {\n",
       "        text-align: right;\n",
       "    }\n",
       "</style>\n",
       "<table border=\"1\" class=\"dataframe\">\n",
       "  <thead>\n",
       "    <tr style=\"text-align: right;\">\n",
       "      <th></th>\n",
       "      <th>Tweets</th>\n",
       "    </tr>\n",
       "  </thead>\n",
       "  <tbody>\n",
       "    <tr>\n",
       "      <th>0</th>\n",
       "      <td>Min of Foreign Affairs of Ghana highlights the...</td>\n",
       "    </tr>\n",
       "    <tr>\n",
       "      <th>1</th>\n",
       "      <td>Digital Financial Inclusion and Security The R...</td>\n",
       "    </tr>\n",
       "    <tr>\n",
       "      <th>2</th>\n",
       "      <td>Digital Financial Inclusion and Security The R...</td>\n",
       "    </tr>\n",
       "    <tr>\n",
       "      <th>3</th>\n",
       "      <td>Digital Financial Inclusion and Security The R...</td>\n",
       "    </tr>\n",
       "    <tr>\n",
       "      <th>4</th>\n",
       "      <td>New CarnegieEndow Digital Financial Inclusion ...</td>\n",
       "    </tr>\n",
       "    <tr>\n",
       "      <th>...</th>\n",
       "      <td>...</td>\n",
       "    </tr>\n",
       "    <tr>\n",
       "      <th>94</th>\n",
       "      <td>RT GhanaPresidency Gov t injects 200m in rural...</td>\n",
       "    </tr>\n",
       "    <tr>\n",
       "      <th>95</th>\n",
       "      <td>RT Government injects 200m in rural telephony ...</td>\n",
       "    </tr>\n",
       "    <tr>\n",
       "      <th>96</th>\n",
       "      <td>RT GhanaPresidency Gov t injects 200m in rural...</td>\n",
       "    </tr>\n",
       "    <tr>\n",
       "      <th>97</th>\n",
       "      <td>Government injects 200m in rural telephony and...</td>\n",
       "    </tr>\n",
       "    <tr>\n",
       "      <th>98</th>\n",
       "      <td>RT Government injects 200m in rural telephony ...</td>\n",
       "    </tr>\n",
       "  </tbody>\n",
       "</table>\n",
       "<p>99 rows × 1 columns</p>\n",
       "</div>"
      ],
      "text/plain": [
       "                                               Tweets\n",
       "0   Min of Foreign Affairs of Ghana highlights the...\n",
       "1   Digital Financial Inclusion and Security The R...\n",
       "2   Digital Financial Inclusion and Security The R...\n",
       "3   Digital Financial Inclusion and Security The R...\n",
       "4   New CarnegieEndow Digital Financial Inclusion ...\n",
       "..                                                ...\n",
       "94  RT GhanaPresidency Gov t injects 200m in rural...\n",
       "95  RT Government injects 200m in rural telephony ...\n",
       "96  RT GhanaPresidency Gov t injects 200m in rural...\n",
       "97  Government injects 200m in rural telephony and...\n",
       "98  RT Government injects 200m in rural telephony ...\n",
       "\n",
       "[99 rows x 1 columns]"
      ]
     },
     "execution_count": 6,
     "metadata": {},
     "output_type": "execute_result"
    }
   ],
   "source": [
    "#removing stopwords\n",
    "\n",
    "stop_words = set(stopwords.words('english'))\n",
    "\n",
    "for i in range(tweets_df.shape[0]):\n",
    "    # tokenizing words in each tweet\n",
    "    words = word_tokenize(tweets_df[\"Tweets\"][i])\n",
    "    # joining the tokens to form a sentence\n",
    "    tokens = [word for word in words if word not in stop_words]\n",
    "    clean_tokens =\" \".join([word for word in words if word.isalnum()])\n",
    "    tweets_df[\"Tweets\"][i] = clean_tokens\n",
    "    \n",
    "tweets_df"
   ]
  },
  {
   "cell_type": "code",
   "execution_count": 8,
   "metadata": {},
   "outputs": [
    {
     "data": {
      "image/png": "[encoded data removed]",
      "text/plain": [
       "<Figure size 432x288 with 1 Axes>"
      ]
     },
     "metadata": {
      "needs_background": "light"
     },
     "output_type": "display_data"
    },
    {
     "data": {
      "text/plain": [
       "<Figure size 1152x576 with 0 Axes>"
      ]
     },
     "metadata": {},
     "output_type": "display_data"
    }
   ],
   "source": [
    "from wordcloud import WordCloud\n",
    "\n",
    "def get_words(text):\n",
    "    return (text)\n",
    "\n",
    "\n",
    "words = \" \".join(tweets_df[\"Tweets\"].apply(get_words))\n",
    "cloud = WordCloud(background_color=\"black\").generate(words)\n",
    "plt.imshow(cloud, interpolation='bilinear')\n",
    "plt.axis(\"off\")\n",
    "\n",
    "plt.figure(figsize=(16, 8))\n",
    "\n",
    "plt.show()\n",
    "\n"
   ]
  },
  {
   "cell_type": "code",
   "execution_count": 9,
   "metadata": {},
   "outputs": [
    {
     "data": {
      "text/html": [
       "<div>\n",
       "<style scoped>\n",
       "    .dataframe tbody tr th:only-of-type {\n",
       "        vertical-align: middle;\n",
       "    }\n",
       "\n",
       "    .dataframe tbody tr th {\n",
       "        vertical-align: top;\n",
       "    }\n",
       "\n",
       "    .dataframe thead th {\n",
       "        text-align: right;\n",
       "    }\n",
       "</style>\n",
       "<table border=\"1\" class=\"dataframe\">\n",
       "  <thead>\n",
       "    <tr style=\"text-align: right;\">\n",
       "      <th></th>\n",
       "      <th>Tweets</th>\n",
       "      <th>Subjectivity Score</th>\n",
       "      <th>Polarity Score</th>\n",
       "    </tr>\n",
       "  </thead>\n",
       "  <tbody>\n",
       "    <tr>\n",
       "      <th>0</th>\n",
       "      <td>Min of Foreign Affairs of Ghana highlights the...</td>\n",
       "      <td>0.108333</td>\n",
       "      <td>0.025000</td>\n",
       "    </tr>\n",
       "    <tr>\n",
       "      <th>1</th>\n",
       "      <td>Digital Financial Inclusion and Security The R...</td>\n",
       "      <td>0.000000</td>\n",
       "      <td>0.000000</td>\n",
       "    </tr>\n",
       "    <tr>\n",
       "      <th>2</th>\n",
       "      <td>Digital Financial Inclusion and Security The R...</td>\n",
       "      <td>0.000000</td>\n",
       "      <td>0.000000</td>\n",
       "    </tr>\n",
       "    <tr>\n",
       "      <th>3</th>\n",
       "      <td>Digital Financial Inclusion and Security The R...</td>\n",
       "      <td>0.000000</td>\n",
       "      <td>0.000000</td>\n",
       "    </tr>\n",
       "    <tr>\n",
       "      <th>4</th>\n",
       "      <td>New CarnegieEndow Digital Financial Inclusion ...</td>\n",
       "      <td>0.151515</td>\n",
       "      <td>0.045455</td>\n",
       "    </tr>\n",
       "    <tr>\n",
       "      <th>...</th>\n",
       "      <td>...</td>\n",
       "      <td>...</td>\n",
       "      <td>...</td>\n",
       "    </tr>\n",
       "    <tr>\n",
       "      <th>94</th>\n",
       "      <td>RT GhanaPresidency Gov t injects 200m in rural...</td>\n",
       "      <td>0.000000</td>\n",
       "      <td>0.000000</td>\n",
       "    </tr>\n",
       "    <tr>\n",
       "      <th>95</th>\n",
       "      <td>RT Government injects 200m in rural telephony ...</td>\n",
       "      <td>0.000000</td>\n",
       "      <td>0.000000</td>\n",
       "    </tr>\n",
       "    <tr>\n",
       "      <th>96</th>\n",
       "      <td>RT GhanaPresidency Gov t injects 200m in rural...</td>\n",
       "      <td>0.000000</td>\n",
       "      <td>0.000000</td>\n",
       "    </tr>\n",
       "    <tr>\n",
       "      <th>97</th>\n",
       "      <td>Government injects 200m in rural telephony and...</td>\n",
       "      <td>0.000000</td>\n",
       "      <td>0.000000</td>\n",
       "    </tr>\n",
       "    <tr>\n",
       "      <th>98</th>\n",
       "      <td>RT Government injects 200m in rural telephony ...</td>\n",
       "      <td>0.000000</td>\n",
       "      <td>0.000000</td>\n",
       "    </tr>\n",
       "  </tbody>\n",
       "</table>\n",
       "<p>99 rows × 3 columns</p>\n",
       "</div>"
      ],
      "text/plain": [
       "                                               Tweets  Subjectivity Score  \\\n",
       "0   Min of Foreign Affairs of Ghana highlights the...            0.108333   \n",
       "1   Digital Financial Inclusion and Security The R...            0.000000   \n",
       "2   Digital Financial Inclusion and Security The R...            0.000000   \n",
       "3   Digital Financial Inclusion and Security The R...            0.000000   \n",
       "4   New CarnegieEndow Digital Financial Inclusion ...            0.151515   \n",
       "..                                                ...                 ...   \n",
       "94  RT GhanaPresidency Gov t injects 200m in rural...            0.000000   \n",
       "95  RT Government injects 200m in rural telephony ...            0.000000   \n",
       "96  RT GhanaPresidency Gov t injects 200m in rural...            0.000000   \n",
       "97  Government injects 200m in rural telephony and...            0.000000   \n",
       "98  RT Government injects 200m in rural telephony ...            0.000000   \n",
       "\n",
       "    Polarity Score  \n",
       "0         0.025000  \n",
       "1         0.000000  \n",
       "2         0.000000  \n",
       "3         0.000000  \n",
       "4         0.045455  \n",
       "..             ...  \n",
       "94        0.000000  \n",
       "95        0.000000  \n",
       "96        0.000000  \n",
       "97        0.000000  \n",
       "98        0.000000  \n",
       "\n",
       "[99 rows x 3 columns]"
      ]
     },
     "execution_count": 9,
     "metadata": {},
     "output_type": "execute_result"
    }
   ],
   "source": [
    "from textblob import TextBlob\n",
    "\n",
    "def check_sentiment_subjectivity(text):\n",
    "    return TextBlob(text).sentiment.subjectivity\n",
    "\n",
    "\n",
    "def check_sentiment_polarity(text):\n",
    "    return TextBlob(text).sentiment.polarity\n",
    "\n",
    "\n",
    "tweets_df[\"Subjectivity Score\"] = tweets_df[\"Tweets\"].apply(check_sentiment_subjectivity)\n",
    "tweets_df[\"Polarity Score\"] = tweets_df[\"Tweets\"].apply(check_sentiment_polarity)\n",
    "\n",
    "tweets_df"
   ]
  },
  {
   "cell_type": "code",
   "execution_count": 10,
   "metadata": {},
   "outputs": [
    {
     "data": {
      "image/png": "[encoded data removed]",
      "text/plain": [
       "<Figure size 432x288 with 1 Axes>"
      ]
     },
     "metadata": {
      "needs_background": "light"
     },
     "output_type": "display_data"
    },
    {
     "data": {
      "image/png": "[encoded data removed]",
      "text/plain": [
       "<Figure size 432x288 with 1 Axes>"
      ]
     },
     "metadata": {
      "needs_background": "light"
     },
     "output_type": "display_data"
    }
   ],
   "source": [
    "#ploting the sentiment scores\n",
    "plt.hist(tweets_df[\"Subjectivity Score\"])\n",
    "plt.show()\n",
    "plt.hist(tweets_df[\"Polarity Score\"])\n",
    "plt.show()"
   ]
  },
  {
   "cell_type": "code",
   "execution_count": null,
   "metadata": {},
   "outputs": [],
   "source": []
  }
 ],
 "metadata": {
  "kernelspec": {
   "display_name": "Python 3.10.5 64-bit",
   "language": "python",
   "name": "python3"
  },
  "language_info": {
   "codemirror_mode": {
    "name": "ipython",
    "version": 3
   },
   "file_extension": ".py",
   "mimetype": "text/x-python",
   "name": "python",
   "nbconvert_exporter": "python",
   "pygments_lexer": "ipython3",
   "version": "3.10.5"
  },
  "orig_nbformat": 4,
  "vscode": {
   "interpreter": {
    "hash": "342bc10bda03cbd1e37426c0d9e9736d66d271363a57a3f2aa08df88a08ae020"
   }
  }
 },
 "nbformat": 4,
 "nbformat_minor": 2
}
