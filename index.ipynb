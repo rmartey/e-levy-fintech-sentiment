{
 "cells": [
  {
   "cell_type": "code",
   "execution_count": 2,
   "metadata": {},
   "outputs": [],
   "source": [
    "# twitter datails\n",
    "from configparser import ConfigParser\n",
    "config = ConfigParser();\n",
    "config.read(\"config.ini\")\n",
    "\n",
    "API_KEY = config[\"marksCredentials\"][\"API_KEY\"]\n",
    "API_KEY_SECRET = config[\"marksCredentials\"][\"API_KEY_SECRET\"]\n",
    "BEARER_TOKEN = config[\"marksCredentials\"][\"BEARER_TOKEN\"]\n",
    "CLIENT_ID = config[\"marksCredentials\"][\"CLIENT_ID\"]\n",
    "CLIENT_SECRET = config[\"marksCredentials\"][\"CLIENT_SECRET\"]\n"
   ]
  },
  {
   "cell_type": "code",
   "execution_count": 3,
   "metadata": {},
   "outputs": [],
   "source": [
    "import json\n",
    "import tweepy"
   ]
  },
  {
   "cell_type": "code",
   "execution_count": 4,
   "metadata": {},
   "outputs": [
    {
     "name": "stdout",
     "output_type": "stream",
     "text": [
      "<tweepy.client.Client object at 0x000001A6C1789B40>\n"
     ]
    }
   ],
   "source": [
    "client = tweepy.Client(BEARER_TOKEN)\n",
    "    \n",
    "print(client)"
   ]
  },
  {
   "cell_type": "code",
   "execution_count": 19,
   "metadata": {},
   "outputs": [
    {
     "name": "stdout",
     "output_type": "stream",
     "text": [
      "3\n"
     ]
    }
   ],
   "source": [
    "#query = \"#e-levy OR e-levy\"\n",
    "\n",
    "queries = [\"#e-elvy OR e-levy\",\"mobile payment Ghana\",\"digital inclusion Ghana\"]\n",
    "file_names = [\"elevy.txt\",\"mobilePayment.txt\",\"digitalInclusion.txt\"]\n",
    "counter = 0\n",
    "\n",
    "for query in queries:\n",
    "    tweets = client.search_recent_tweets(query=query, max_results=100,expansions = [\"geo.place_id\"])\n",
    "    for tweet in tweets.data:\n",
    "        with open(file_names[counter],\"w\",encoding=\"utf-8\") as f:\n",
    "            f.write(tweet.text)\n",
    "    counter +=1\n",
    "print(counter)\n",
    "#tweets = client.search_all_tweets(query=query, max_results=100,tweet_fields=[\"id\",\"text\",\"created_at\",\"lang\"],expansions=[\"geo.place_id\"])\n",
    "\n",
    "#elevy = []\n",
    "\n",
    "#for tweet in tweets.data:\n",
    "#    j=json.dumps(tweet.data, indent=4)\n",
    "#    elevy.append(j)\n",
    "    \n",
    "\n",
    "#data ={\"data\":elevy}\n",
    "\n",
    "\n",
    "#with open(\"e-levyData.json\",\"w\") as f:\n",
    "#        json.dump(data,f)\n",
    "        "
   ]
  },
  {
   "cell_type": "code",
   "execution_count": 5,
   "metadata": {},
   "outputs": [],
   "source": [
    "query = \"mobile payment Ghana\"\n",
    "\n",
    "tweets = client.search_all_tweets(query=query, max_results=100,tweet_fields=[\"id\",\"text\",\"created_at\",\"lang\"],expansions=[\"geo.place_id\"])\n",
    "\n",
    "mobilePayment = []\n",
    "\n",
    "for tweet in tweets.data:\n",
    "    j=json.dumps(tweet.data, indent=4)\n",
    "    mobilePayment.append(j)\n",
    "    \n",
    "\n",
    "data ={\"data\":mobilePayment}\n",
    "\n",
    "\n",
    "with open(\"mobilePaymentData.json\",\"w\") as f:\n",
    "        json.dump(data,f)"
   ]
  },
  {
   "cell_type": "code",
   "execution_count": 7,
   "metadata": {},
   "outputs": [],
   "source": [
    "query = \"digital inclusion Ghana\"\n",
    "\n",
    "tweets = client.search_all_tweets(query=query, max_results=100,tweet_fields=[\"id\",\"text\",\"created_at\",\"lang\"],expansions=[\"geo.place_id\"])\n",
    "\n",
    "digitalInclusion = []\n",
    "\n",
    "for tweet in tweets.data:\n",
    "    j=json.dumps(tweet.data, indent=4)\n",
    "    digitalInclusion.append(j)\n",
    "    \n",
    "\n",
    "data ={\"data\":digitalInclusion}\n",
    "\n",
    "\n",
    "with open(\"digitalInclusionData.json\",\"w\") as f:\n",
    "        json.dump(data,f)"
   ]
  },
  {
   "cell_type": "code",
   "execution_count": 15,
   "metadata": {},
   "outputs": [
    {
     "name": "stdout",
     "output_type": "stream",
     "text": [
      "<class 'str'>\n"
     ]
    }
   ],
   "source": [
    "#import json\n",
    "#queries = [\"elevy #GH OR #MTN OR #Vodafone\",\"FinTech Ghana\"]\n",
    "#tweets = client.search_all_tweets(query=qeury,max_results=100,tweet_fields=[\"id\",\"text\",\"created_at\",\"lang\"])\n",
    "#print(tweets)\n",
    "#for tweet in tweets.data:\n",
    "#    with open(\"tweets.txt\",\"w\",encoding = \"utf-8\") as f:\n",
    "#        f.write(tweet.text)\n",
    "        \n",
    "with open(\"tweets1.txt\",\"w\",encoding=\"utf-8\") as f: \n",
    "    for response in tweepy.Paginator(client.search_all_tweets, \"e-levy OR FinTech Ghana\", max_results =100).flatten(1):\n",
    "        #f.write(response.text)\n",
    "        print(type(response.text))\n",
    "        #for line in response.text:\n",
    "        #    print(line)\n",
    "        "
   ]
  },
  {
   "cell_type": "code",
   "execution_count": null,
   "metadata": {},
   "outputs": [],
   "source": []
  },
  {
   "cell_type": "code",
   "execution_count": null,
   "metadata": {},
   "outputs": [],
   "source": []
  }
 ],
 "metadata": {
  "kernelspec": {
   "display_name": "Python 3.10.5 64-bit",
   "language": "python",
   "name": "python3"
  },
  "language_info": {
   "codemirror_mode": {
    "name": "ipython",
    "version": 3
   },
   "file_extension": ".py",
   "mimetype": "text/x-python",
   "name": "python",
   "nbconvert_exporter": "python",
   "pygments_lexer": "ipython3",
   "version": "3.10.5"
  },
  "orig_nbformat": 4,
  "vscode": {
   "interpreter": {
    "hash": "342bc10bda03cbd1e37426c0d9e9736d66d271363a57a3f2aa08df88a08ae020"
   }
  }
 },
 "nbformat": 4,
 "nbformat_minor": 2
}
