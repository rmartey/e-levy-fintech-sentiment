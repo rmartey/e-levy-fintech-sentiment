{
 "cells": [
  {
   "cell_type": "code",
   "execution_count": 1,
   "metadata": {},
   "outputs": [],
   "source": [
    "with open(\"tweets.txt\",\"r\",encoding = \"utf-8\") as f:\n",
    "    data = f.read()\n",
    "\n",
    "tweets = data.split(\"\\n\")\n",
    "tweets_clean = [tweet for tweet in tweets if len(tweet)>15]\n"
   ]
  },
  {
   "cell_type": "code",
   "execution_count": 41,
   "metadata": {},
   "outputs": [],
   "source": [
    "import pandas as pd\n",
    "import numpy as np\n",
    "import matplotlib.pyplot as plt\n",
    "import re\n",
    "from nltk import word_tokenize, sent_tokenize\n",
    "from nltk.stem import WordNetLemmatizer\n",
    "from nltk.corpus import stopwords\n",
    "from collections import Counter\n",
    "stop_words = set(stopwords.words('english'))"
   ]
  },
  {
   "cell_type": "code",
   "execution_count": 3,
   "metadata": {},
   "outputs": [
    {
     "data": {
      "text/html": [
       "<div>\n",
       "<style scoped>\n",
       "    .dataframe tbody tr th:only-of-type {\n",
       "        vertical-align: middle;\n",
       "    }\n",
       "\n",
       "    .dataframe tbody tr th {\n",
       "        vertical-align: top;\n",
       "    }\n",
       "\n",
       "    .dataframe thead th {\n",
       "        text-align: right;\n",
       "    }\n",
       "</style>\n",
       "<table border=\"1\" class=\"dataframe\">\n",
       "  <thead>\n",
       "    <tr style=\"text-align: right;\">\n",
       "      <th></th>\n",
       "      <th>Tweets</th>\n",
       "    </tr>\n",
       "  </thead>\n",
       "  <tbody>\n",
       "    <tr>\n",
       "      <th>0</th>\n",
       "      <td>Why are you charging e-levy on 41 cedis transf...</td>\n",
       "    </tr>\n",
       "    <tr>\n",
       "      <th>1</th>\n",
       "      <td>Citizens' resistance to the electronic transac...</td>\n",
       "    </tr>\n",
       "    <tr>\n",
       "      <th>2</th>\n",
       "      <td>- Prof. Godfred Bokpin [Eco…RT @ThePhilipPhili...</td>\n",
       "    </tr>\n",
       "    <tr>\n",
       "      <th>3</th>\n",
       "      <td>2.Everyone who receives 70gh a month is very R...</td>\n",
       "    </tr>\n",
       "    <tr>\n",
       "      <th>4</th>\n",
       "      <td>3. Breaking the 8</td>\n",
       "    </tr>\n",
       "  </tbody>\n",
       "</table>\n",
       "</div>"
      ],
      "text/plain": [
       "                                              Tweets\n",
       "0  Why are you charging e-levy on 41 cedis transf...\n",
       "1  Citizens' resistance to the electronic transac...\n",
       "2  - Prof. Godfred Bokpin [Eco…RT @ThePhilipPhili...\n",
       "3  2.Everyone who receives 70gh a month is very R...\n",
       "4                                  3. Breaking the 8"
      ]
     },
     "execution_count": 3,
     "metadata": {},
     "output_type": "execute_result"
    }
   ],
   "source": [
    "tweets_df = pd.DataFrame(tweets_clean, index=None,columns=[\"Tweets\"])\n",
    "tweets_df.head()"
   ]
  },
  {
   "cell_type": "code",
   "execution_count": 4,
   "metadata": {},
   "outputs": [
    {
     "name": "stdout",
     "output_type": "stream",
     "text": [
      "<class 'pandas.core.frame.DataFrame'>\n",
      "RangeIndex: 865 entries, 0 to 864\n",
      "Data columns (total 1 columns):\n",
      " #   Column  Non-Null Count  Dtype \n",
      "---  ------  --------------  ----- \n",
      " 0   Tweets  865 non-null    object\n",
      "dtypes: object(1)\n",
      "memory usage: 6.9+ KB\n"
     ]
    }
   ],
   "source": [
    "tweets_df.info()"
   ]
  },
  {
   "cell_type": "code",
   "execution_count": 5,
   "metadata": {},
   "outputs": [
    {
     "data": {
      "text/html": [
       "<div>\n",
       "<style scoped>\n",
       "    .dataframe tbody tr th:only-of-type {\n",
       "        vertical-align: middle;\n",
       "    }\n",
       "\n",
       "    .dataframe tbody tr th {\n",
       "        vertical-align: top;\n",
       "    }\n",
       "\n",
       "    .dataframe thead th {\n",
       "        text-align: right;\n",
       "    }\n",
       "</style>\n",
       "<table border=\"1\" class=\"dataframe\">\n",
       "  <thead>\n",
       "    <tr style=\"text-align: right;\">\n",
       "      <th></th>\n",
       "      <th>Tweets</th>\n",
       "    </tr>\n",
       "  </thead>\n",
       "  <tbody>\n",
       "    <tr>\n",
       "      <th>count</th>\n",
       "      <td>865</td>\n",
       "    </tr>\n",
       "    <tr>\n",
       "      <th>unique</th>\n",
       "      <td>719</td>\n",
       "    </tr>\n",
       "    <tr>\n",
       "      <th>top</th>\n",
       "      <td>So tell me why I’m being charged E-levy for ma...</td>\n",
       "    </tr>\n",
       "    <tr>\n",
       "      <th>freq</th>\n",
       "      <td>24</td>\n",
       "    </tr>\n",
       "  </tbody>\n",
       "</table>\n",
       "</div>"
      ],
      "text/plain": [
       "                                                   Tweets\n",
       "count                                                 865\n",
       "unique                                                719\n",
       "top     So tell me why I’m being charged E-levy for ma...\n",
       "freq                                                   24"
      ]
     },
     "execution_count": 5,
     "metadata": {},
     "output_type": "execute_result"
    }
   ],
   "source": [
    "tweets_df.describe()"
   ]
  },
  {
   "cell_type": "code",
   "execution_count": 6,
   "metadata": {},
   "outputs": [
    {
     "data": {
      "text/html": [
       "<div>\n",
       "<style scoped>\n",
       "    .dataframe tbody tr th:only-of-type {\n",
       "        vertical-align: middle;\n",
       "    }\n",
       "\n",
       "    .dataframe tbody tr th {\n",
       "        vertical-align: top;\n",
       "    }\n",
       "\n",
       "    .dataframe thead th {\n",
       "        text-align: right;\n",
       "    }\n",
       "</style>\n",
       "<table border=\"1\" class=\"dataframe\">\n",
       "  <thead>\n",
       "    <tr style=\"text-align: right;\">\n",
       "      <th></th>\n",
       "      <th>Tweets</th>\n",
       "    </tr>\n",
       "  </thead>\n",
       "  <tbody>\n",
       "    <tr>\n",
       "      <th>0</th>\n",
       "      <td>Why are you charging e-levy on 41 cedis transf...</td>\n",
       "    </tr>\n",
       "    <tr>\n",
       "      <th>1</th>\n",
       "      <td>Citizens' resistance to the electronic transac...</td>\n",
       "    </tr>\n",
       "    <tr>\n",
       "      <th>2</th>\n",
       "      <td>- Prof. Godfred Bokpin [Eco…RT ThePhilipPhilip...</td>\n",
       "    </tr>\n",
       "    <tr>\n",
       "      <th>3</th>\n",
       "      <td>2.Everyone who receives 70gh a month is very R...</td>\n",
       "    </tr>\n",
       "    <tr>\n",
       "      <th>4</th>\n",
       "      <td>3. Breaking the 8</td>\n",
       "    </tr>\n",
       "  </tbody>\n",
       "</table>\n",
       "</div>"
      ],
      "text/plain": [
       "                                              Tweets\n",
       "0  Why are you charging e-levy on 41 cedis transf...\n",
       "1  Citizens' resistance to the electronic transac...\n",
       "2  - Prof. Godfred Bokpin [Eco…RT ThePhilipPhilip...\n",
       "3  2.Everyone who receives 70gh a month is very R...\n",
       "4                                  3. Breaking the 8"
      ]
     },
     "execution_count": 6,
     "metadata": {},
     "output_type": "execute_result"
    }
   ],
   "source": [
    "#removing #, @ and links \n",
    "# removing hashtags\n",
    "def remove_hashtags(text):\n",
    "    hashtag = re.compile(\"#\")\n",
    "    return hashtag.sub(\"\", text)\n",
    "\n",
    "#removing @ symbols\n",
    "def remove_at(text):\n",
    "    at = re.compile(\"@\")\n",
    "    return at.sub(\"\", text)\n",
    "\n",
    "# removing links\n",
    "def remove_URL(text):\n",
    "    url = re.compile(r'https?://\\S+|www\\.\\S+')\n",
    "    return url.sub(r'', text)\n",
    "def get_words(text):\n",
    "    return (text)\n",
    "\n",
    "tweets_df[\"Tweets\"] = tweets_df[\"Tweets\"].apply(remove_at)\n",
    "tweets_df[\"Tweets\"] = tweets_df[\"Tweets\"].apply(remove_hashtags)\n",
    "tweets_df[\"Tweets\"] = tweets_df[\"Tweets\"].apply(remove_URL)\n",
    "\n",
    "tweets_df.head()"
   ]
  },
  {
   "cell_type": "code",
   "execution_count": 7,
   "metadata": {},
   "outputs": [
    {
     "data": {
      "text/html": [
       "<div>\n",
       "<style scoped>\n",
       "    .dataframe tbody tr th:only-of-type {\n",
       "        vertical-align: middle;\n",
       "    }\n",
       "\n",
       "    .dataframe tbody tr th {\n",
       "        vertical-align: top;\n",
       "    }\n",
       "\n",
       "    .dataframe thead th {\n",
       "        text-align: right;\n",
       "    }\n",
       "</style>\n",
       "<table border=\"1\" class=\"dataframe\">\n",
       "  <thead>\n",
       "    <tr style=\"text-align: right;\">\n",
       "      <th></th>\n",
       "      <th>Tweets</th>\n",
       "    </tr>\n",
       "  </thead>\n",
       "  <tbody>\n",
       "    <tr>\n",
       "      <th>0</th>\n",
       "      <td>Why are you charging e-levy on 41 cedis transf...</td>\n",
       "    </tr>\n",
       "    <tr>\n",
       "      <th>1</th>\n",
       "      <td>Citizens ' resistance to the electronic transa...</td>\n",
       "    </tr>\n",
       "    <tr>\n",
       "      <th>2</th>\n",
       "      <td>- Prof. Godfred Bokpin [ Eco…RT ThePhilipPhili...</td>\n",
       "    </tr>\n",
       "    <tr>\n",
       "      <th>3</th>\n",
       "      <td>2.Everyone who receives 70gh a month is very Rich</td>\n",
       "    </tr>\n",
       "    <tr>\n",
       "      <th>4</th>\n",
       "      <td>3 . Breaking the 8</td>\n",
       "    </tr>\n",
       "    <tr>\n",
       "      <th>...</th>\n",
       "      <td>...</td>\n",
       "    </tr>\n",
       "    <tr>\n",
       "      <th>860</th>\n",
       "      <td>They 've been charging me e-levy on such too !...</td>\n",
       "    </tr>\n",
       "    <tr>\n",
       "      <th>861</th>\n",
       "      <td>I think Ghanaians should start making money fr...</td>\n",
       "    </tr>\n",
       "    <tr>\n",
       "      <th>862</th>\n",
       "      <td>W ) mo de anibr3 aba mu Bridget_Otoo : I calle...</td>\n",
       "    </tr>\n",
       "    <tr>\n",
       "      <th>863</th>\n",
       "      <td>Addo D : Have you heard about E-Levy AnnanPerr...</td>\n",
       "    </tr>\n",
       "    <tr>\n",
       "      <th>864</th>\n",
       "      <td>CSPS_UG ISSERUG UnivofGh J…RT Bridget_Otoo : I...</td>\n",
       "    </tr>\n",
       "  </tbody>\n",
       "</table>\n",
       "<p>865 rows × 1 columns</p>\n",
       "</div>"
      ],
      "text/plain": [
       "                                                Tweets\n",
       "0    Why are you charging e-levy on 41 cedis transf...\n",
       "1    Citizens ' resistance to the electronic transa...\n",
       "2    - Prof. Godfred Bokpin [ Eco…RT ThePhilipPhili...\n",
       "3    2.Everyone who receives 70gh a month is very Rich\n",
       "4                                   3 . Breaking the 8\n",
       "..                                                 ...\n",
       "860  They 've been charging me e-levy on such too !...\n",
       "861  I think Ghanaians should start making money fr...\n",
       "862  W ) mo de anibr3 aba mu Bridget_Otoo : I calle...\n",
       "863  Addo D : Have you heard about E-Levy AnnanPerr...\n",
       "864  CSPS_UG ISSERUG UnivofGh J…RT Bridget_Otoo : I...\n",
       "\n",
       "[865 rows x 1 columns]"
      ]
     },
     "execution_count": 7,
     "metadata": {},
     "output_type": "execute_result"
    }
   ],
   "source": [
    "#removing stopwords\n",
    "\n",
    "lemmatizer = WordNetLemmatizer()\n",
    "\n",
    "for i in range(tweets_df.shape[0]):\n",
    "    # tokenizing words in each tweet\n",
    "    words = word_tokenize(tweets_df[\"Tweets\"][i])\n",
    "    # joining the tokens to form a sentence\n",
    "    tokens = [lemmatizer.lemmatize(word) for word in words if word not in stop_words]\n",
    "    clean_tokens =\" \".join([word for word in words])\n",
    "    tweets_df[\"Tweets\"][i] = clean_tokens\n",
    "    \n",
    "tweets_df"
   ]
  },
  {
   "cell_type": "code",
   "execution_count": 45,
   "metadata": {},
   "outputs": [
    {
     "name": "stdout",
     "output_type": "stream",
     "text": [
      "The top 20 common words are [('e-levy', 1233), (':', 1187), (',', 897), ('.', 889), ('?', 412), ('i', 408), ('’', 364), ('the', 326), ('said', 255), ('ghana', 252), ('charged', 197), ('besttolead', 175), ('nexttolead', 175), ('transactions', 171), ('transaction', 164), ('!', 162), ('charging', 153), ('addo', 151), ('day', 148), ('cedis', 147)]\n"
     ]
    },
    {
     "data": {
      "image/png": "[encoded data removed]",
      "text/plain": [
       "<Figure size 432x288 with 1 Axes>"
      ]
     },
     "metadata": {
      "needs_background": "light"
     },
     "output_type": "display_data"
    },
    {
     "data": {
      "text/plain": [
       "<Figure size 1152x576 with 0 Axes>"
      ]
     },
     "metadata": {},
     "output_type": "display_data"
    }
   ],
   "source": [
    "from wordcloud import WordCloud\n",
    "\n",
    "def get_words(text):\n",
    "    return (text)\n",
    "\n",
    "\n",
    "words = \" \".join(tweets_df[\"Tweets\"].apply(get_words))\n",
    "\n",
    "word_tokens = word_tokenize(words)\n",
    "clean_word_tokens = [word.lower() for word in word_tokens if word not in stop_words]\n",
    "\n",
    "count = Counter(clean_word_tokens)\n",
    "\n",
    "top_20 = count.most_common(20)\n",
    "print(f\"The top 20 common words are {top_20}\")\n",
    "cloud = WordCloud(background_color=\"black\").generate(words)\n",
    "plt.imshow(cloud, interpolation='bilinear')\n",
    "plt.axis(\"off\")\n",
    "\n",
    "plt.figure(figsize=(16, 8))\n",
    "\n",
    "plt.show()\n",
    "#print(words)"
   ]
  },
  {
   "cell_type": "code",
   "execution_count": 9,
   "metadata": {},
   "outputs": [
    {
     "data": {
      "text/html": [
       "<div>\n",
       "<style scoped>\n",
       "    .dataframe tbody tr th:only-of-type {\n",
       "        vertical-align: middle;\n",
       "    }\n",
       "\n",
       "    .dataframe tbody tr th {\n",
       "        vertical-align: top;\n",
       "    }\n",
       "\n",
       "    .dataframe thead th {\n",
       "        text-align: right;\n",
       "    }\n",
       "</style>\n",
       "<table border=\"1\" class=\"dataframe\">\n",
       "  <thead>\n",
       "    <tr style=\"text-align: right;\">\n",
       "      <th></th>\n",
       "      <th>Tweets</th>\n",
       "      <th>Polarity Score</th>\n",
       "    </tr>\n",
       "  </thead>\n",
       "  <tbody>\n",
       "    <tr>\n",
       "      <th>0</th>\n",
       "      <td>Why are you charging e-levy on 41 cedis transf...</td>\n",
       "      <td>-0.125000</td>\n",
       "    </tr>\n",
       "    <tr>\n",
       "      <th>1</th>\n",
       "      <td>Citizens ' resistance to the electronic transa...</td>\n",
       "      <td>-0.025731</td>\n",
       "    </tr>\n",
       "    <tr>\n",
       "      <th>2</th>\n",
       "      <td>- Prof. Godfred Bokpin [ Eco…RT ThePhilipPhili...</td>\n",
       "      <td>0.500000</td>\n",
       "    </tr>\n",
       "    <tr>\n",
       "      <th>3</th>\n",
       "      <td>2.Everyone who receives 70gh a month is very Rich</td>\n",
       "      <td>0.487500</td>\n",
       "    </tr>\n",
       "    <tr>\n",
       "      <th>4</th>\n",
       "      <td>3 . Breaking the 8</td>\n",
       "      <td>0.000000</td>\n",
       "    </tr>\n",
       "    <tr>\n",
       "      <th>...</th>\n",
       "      <td>...</td>\n",
       "      <td>...</td>\n",
       "    </tr>\n",
       "    <tr>\n",
       "      <th>860</th>\n",
       "      <td>They 've been charging me e-levy on such too !...</td>\n",
       "      <td>-0.041667</td>\n",
       "    </tr>\n",
       "    <tr>\n",
       "      <th>861</th>\n",
       "      <td>I think Ghanaians should start making money fr...</td>\n",
       "      <td>0.437500</td>\n",
       "    </tr>\n",
       "    <tr>\n",
       "      <th>862</th>\n",
       "      <td>W ) mo de anibr3 aba mu Bridget_Otoo : I calle...</td>\n",
       "      <td>-0.083333</td>\n",
       "    </tr>\n",
       "    <tr>\n",
       "      <th>863</th>\n",
       "      <td>Addo D : Have you heard about E-Levy AnnanPerr...</td>\n",
       "      <td>-0.118519</td>\n",
       "    </tr>\n",
       "    <tr>\n",
       "      <th>864</th>\n",
       "      <td>CSPS_UG ISSERUG UnivofGh J…RT Bridget_Otoo : I...</td>\n",
       "      <td>-0.083333</td>\n",
       "    </tr>\n",
       "  </tbody>\n",
       "</table>\n",
       "<p>865 rows × 2 columns</p>\n",
       "</div>"
      ],
      "text/plain": [
       "                                                Tweets  Polarity Score\n",
       "0    Why are you charging e-levy on 41 cedis transf...       -0.125000\n",
       "1    Citizens ' resistance to the electronic transa...       -0.025731\n",
       "2    - Prof. Godfred Bokpin [ Eco…RT ThePhilipPhili...        0.500000\n",
       "3    2.Everyone who receives 70gh a month is very Rich        0.487500\n",
       "4                                   3 . Breaking the 8        0.000000\n",
       "..                                                 ...             ...\n",
       "860  They 've been charging me e-levy on such too !...       -0.041667\n",
       "861  I think Ghanaians should start making money fr...        0.437500\n",
       "862  W ) mo de anibr3 aba mu Bridget_Otoo : I calle...       -0.083333\n",
       "863  Addo D : Have you heard about E-Levy AnnanPerr...       -0.118519\n",
       "864  CSPS_UG ISSERUG UnivofGh J…RT Bridget_Otoo : I...       -0.083333\n",
       "\n",
       "[865 rows x 2 columns]"
      ]
     },
     "execution_count": 9,
     "metadata": {},
     "output_type": "execute_result"
    }
   ],
   "source": [
    "from textblob import TextBlob\n",
    "\n",
    "def check_sentiment_subjectivity(text):\n",
    "    return TextBlob(text).sentiment.subjectivity\n",
    "\n",
    "\n",
    "def check_sentiment_polarity(text):\n",
    "    return TextBlob(text).sentiment.polarity\n",
    "\n",
    "\n",
    "#tweets_df[\"Subjectivity Score\"] = tweets_df[\"Tweets\"].apply(check_sentiment_subjectivity)\n",
    "tweets_df[\"Polarity Score\"] = tweets_df[\"Tweets\"].apply(check_sentiment_polarity)\n",
    "\n",
    "tweets_df"
   ]
  },
  {
   "cell_type": "code",
   "execution_count": 32,
   "metadata": {},
   "outputs": [
    {
     "data": {
      "image/png": "[encoded data removed]",
      "text/plain": [
       "<Figure size 432x288 with 1 Axes>"
      ]
     },
     "metadata": {
      "needs_background": "light"
     },
     "output_type": "display_data"
    }
   ],
   "source": [
    "#ploting the sentiment scores\n",
    "#plt.hist(tweets_df[\"Subjectivity Score\"])\n",
    "#plt.show()\n",
    "plt.hist(tweets_df[\"Polarity Score\"], bins=10)\n",
    "plt.title(\"Polarity Scores of Tweets\")\n",
    "plt.show()"
   ]
  },
  {
   "cell_type": "code",
   "execution_count": 19,
   "metadata": {},
   "outputs": [],
   "source": [
    "polarity_scores =  list(tweets_df[\"Polarity Score\"])\n",
    "\n",
    "def classify_polarity(score):\n",
    "    if(score<0):\n",
    "        return \"Negative\"\n",
    "    elif(score>0):\n",
    "        return \"Positive\"\n",
    "    else:\n",
    "        return \"Neutral\"\n",
    "\n",
    "polarity_classification = [classify_polarity(polarity) for polarity in polarity_scores]\n",
    "#print(polarity_classification)"
   ]
  },
  {
   "cell_type": "code",
   "execution_count": 26,
   "metadata": {},
   "outputs": [
    {
     "name": "stdout",
     "output_type": "stream",
     "text": [
      "Total number of Positive scores is 352 \n",
      " Total number of Negative scores is 156 \n",
      " Total number of Neutral scores is 357\n"
     ]
    }
   ],
   "source": [
    "#getting a list of all the positive scores\n",
    "positive_scores = [score for score in polarity_classification if score == \"Positive\"]\n",
    "num_of_positive = (len(positive_scores))\n",
    "\n",
    "\n",
    "#getting a list of all negative scores\n",
    "negative_scores = [score for score in polarity_classification if score == \"Negative\"]\n",
    "num_of_negative = (len(negative_scores))\n",
    "\n",
    "\n",
    "#getting a list of neutral scores\n",
    "neuttral_scores = [score for score in polarity_classification if score == \"Neutral\"]\n",
    "num_of_neutral = (len(neuttral_scores))\n",
    "\n",
    "#printing out the total number of positive, negative and neutral scores\n",
    "print(f\"Total number of Positive scores is {num_of_positive} \\n Total number of Negative scores is {num_of_negative} \\n Total number of Neutral scores is {num_of_neutral}\")"
   ]
  },
  {
   "cell_type": "code",
   "execution_count": 37,
   "metadata": {},
   "outputs": [
    {
     "data": {
      "image/png": "[encoded data removed]",
      "text/plain": [
       "<Figure size 432x288 with 1 Axes>"
      ]
     },
     "metadata": {
      "needs_background": "light"
     },
     "output_type": "display_data"
    },
    {
     "data": {
      "text/plain": [
       "<Figure size 1152x720 with 0 Axes>"
      ]
     },
     "metadata": {},
     "output_type": "display_data"
    }
   ],
   "source": [
    "plt.hist(polarity_classification)\n",
    "plt.title(\"Sentiment Classifications\")\n",
    "plt.figure(figsize=(16,10))\n",
    "plt.show()"
   ]
  },
  {
   "cell_type": "code",
   "execution_count": null,
   "metadata": {},
   "outputs": [],
   "source": []
  }
 ],
 "metadata": {
  "kernelspec": {
   "display_name": "Python 3.10.5 64-bit",
   "language": "python",
   "name": "python3"
  },
  "language_info": {
   "codemirror_mode": {
    "name": "ipython",
    "version": 3
   },
   "file_extension": ".py",
   "mimetype": "text/x-python",
   "name": "python",
   "nbconvert_exporter": "python",
   "pygments_lexer": "ipython3",
   "version": "3.10.5"
  },
  "orig_nbformat": 4,
  "vscode": {
   "interpreter": {
    "hash": "342bc10bda03cbd1e37426c0d9e9736d66d271363a57a3f2aa08df88a08ae020"
   }
  }
 },
 "nbformat": 4,
 "nbformat_minor": 2
}
