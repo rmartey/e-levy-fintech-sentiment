{
 "cells": [
  {
   "cell_type": "code",
   "execution_count": 1,
   "metadata": {},
   "outputs": [],
   "source": [
    "# twitter datails\n",
    "consumer_key = \"RDM7ucknXmnNXM6oeM5QTIh65\"\n",
    "consumer_secret = \"LRvhq3m2E327bglJXFBaTOKFcZb4uVYB3k4NOxKQHI164Fr4ZG\"\n",
    "access_token = \"1496862457788350469-aFBjzmBFZL8Y981mLbP2oasEtRA55m\"\n",
    "access_token_secret = \" Clflh3yFpGy1ngkgRbNJnPlv9aPVdPxP221YAD3QKntBy\"\n",
    "bearer_token = \"AAAAAAAAAAAAAAAAAAAAAAxDfgEAAAAAyKue0FccciQ910jpYG4kk3O67Xg%3DB4MUwKbIAFdkCnRq7nUMpBwd5ycsS4rjFMNbbXGbxXIpjScM8F\"\n"
   ]
  },
  {
   "cell_type": "code",
   "execution_count": 2,
   "metadata": {},
   "outputs": [],
   "source": [
    "from nltk import word_tokenize, sent_tokenize\n",
    "from collections import Counter\n",
    "import nltk\n",
    "import re\n",
    "import numpy as np\n",
    "import pandas as pd\n",
    "import json\n",
    "import tweepy\n",
    "from nltk.corpus import stopwords\n",
    "import matplotlib.pyplot as plt\n",
    "from collections import Counter"
   ]
  },
  {
   "cell_type": "code",
   "execution_count": 3,
   "metadata": {},
   "outputs": [
    {
     "name": "stdout",
     "output_type": "stream",
     "text": [
      "<tweepy.client.Client object at 0x0000020A4C001B70>\n"
     ]
    }
   ],
   "source": [
    "client = tweepy.Client(bearer_token)\n",
    "    \n",
    "print(client)"
   ]
  },
  {
   "cell_type": "code",
   "execution_count": 24,
   "metadata": {},
   "outputs": [],
   "source": [
    "#writing data to file\n",
    "\n",
    "    # key words to search for tweets\n",
    "query = \"Financial inclusion AND digital payments\"\n",
    "#tweets = client.search_recent_tweets(query=query, max_results=100,tweet_fields=[\"id\",\"text\",\"created_at\",\"lang\"])\n",
    "\n",
    "for tweets in tweepy.Paginator(client.search_recent_tweets,max_results=100):\n",
    "    with open(\"fin.txt\", \"a\", encoding=\"utf-8\") as f:\n",
    "        for tweet in tweets.data: \n",
    "            f.write(str(tweet.text))\n",
    "\n",
    "#with open(\"tweets.txt\", \"a\", encoding=\"utf-8\") as f:\n",
    "#    for line in tweets.data:\n",
    "#        f.write(str(line))"
   ]
  },
  {
   "cell_type": "code",
   "execution_count": null,
   "metadata": {},
   "outputs": [],
   "source": []
  }
 ],
 "metadata": {
  "kernelspec": {
   "display_name": "Python 3.10.5 64-bit",
   "language": "python",
   "name": "python3"
  },
  "language_info": {
   "codemirror_mode": {
    "name": "ipython",
    "version": 3
   },
   "file_extension": ".py",
   "mimetype": "text/x-python",
   "name": "python",
   "nbconvert_exporter": "python",
   "pygments_lexer": "ipython3",
   "version": "3.10.5"
  },
  "orig_nbformat": 4,
  "vscode": {
   "interpreter": {
    "hash": "342bc10bda03cbd1e37426c0d9e9736d66d271363a57a3f2aa08df88a08ae020"
   }
  }
 },
 "nbformat": 4,
 "nbformat_minor": 2
}
